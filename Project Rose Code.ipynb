{
 "cells": [
  {
   "cell_type": "code",
   "execution_count": null,
   "metadata": {},
   "outputs": [],
   "source": [
    "import pandas as pd\n",
    "import numpy as np\n",
    "\n",
    "\n"
   ]
  },
  {
   "cell_type": "code",
   "execution_count": null,
   "metadata": {},
   "outputs": [],
   "source": [
    "def extract_samples(file_path, sample_size=2000):\n",
    "    # Read the CSV or Excel file\n",
    "    if file_path.endswith('.csv'):\n",
    "        df = pd.read_csv(file_path)\n",
    "    elif file_path.endswith('.xlsx'):\n",
    "        df = pd.read_excel(file_path)\n",
    "    else:\n",
    "        raise ValueError(\"Unsupported file format. Supported formats are CSV and Excel.\")\n",
    "\n",
    "    # Create an empty DataFrame to store samples\n",
    "    samples = pd.DataFrame()\n",
    "\n",
    "    # Iterate over unique values in the \"Birth Month\" column\n",
    "    for month in df['Birth Month'].unique():\n",
    "        # Select all rows for the current month\n",
    "        month_samples = df[df['Birth Month'] == month]\n",
    "\n",
    "        # If there are more than 2000 rows for the current month, randomly select 2000 samples\n",
    "        if len(month_samples) > sample_size:\n",
    "            month_samples = month_samples.sample(sample_size, random_state=42)\n",
    "\n",
    "        # Concatenate the samples to the overall samples DataFrame\n",
    "        samples = pd.concat([samples, month_samples], ignore_index=True)\n",
    "\n",
    "    return samples"
   ]
  },
  {
   "cell_type": "code",
   "execution_count": null,
   "metadata": {},
   "outputs": [],
   "source": [
    "\n",
    "file_path_2022 = 'path_to_your_csv_file.csv'\n",
    "\n",
    "\n",
    "# Extract samples from CSV file\n",
    "csv_samples = extract_samples(csv_file_path)\n",
    "\n",
    "# You can repeat the process for additional files if needed\n",
    "\n",
    "\n",
    "# Print the extracted samples\n",
    "print(\"CSV Samples:\")\n",
    "print(csv_samples.head())\n"
   ]
  }
 ],
 "metadata": {
  "anaconda-cloud": {},
  "kernelspec": {
   "display_name": "Python 3 (ipykernel)",
   "language": "python",
   "name": "python3"
  },
  "language_info": {
   "codemirror_mode": {
    "name": "ipython",
    "version": 3
   },
   "file_extension": ".py",
   "mimetype": "text/x-python",
   "name": "python",
   "nbconvert_exporter": "python",
   "pygments_lexer": "ipython3",
   "version": "3.10.13"
  },
  "varInspector": {
   "cols": {
    "lenName": 16,
    "lenType": 16,
    "lenVar": 40
   },
   "kernels_config": {
    "python": {
     "delete_cmd_postfix": "",
     "delete_cmd_prefix": "del ",
     "library": "var_list.py",
     "varRefreshCmd": "print(var_dic_list())"
    },
    "r": {
     "delete_cmd_postfix": ") ",
     "delete_cmd_prefix": "rm(",
     "library": "var_list.r",
     "varRefreshCmd": "cat(var_dic_list()) "
    }
   },
   "types_to_exclude": [
    "module",
    "function",
    "builtin_function_or_method",
    "instance",
    "_Feature"
   ],
   "window_display": false
  }
 },
 "nbformat": 4,
 "nbformat_minor": 1
}
