{
 "cells": [
  {
   "cell_type": "code",
   "execution_count": null,
   "id": "a343ce93",
   "metadata": {},
   "outputs": [],
   "source": [
    "# Dependencies\n",
    "import pandas as pd\n",
    "import numpy as np\n",
    "import requests\n",
    "import json\n",
    "import matplotlib.pyplot as plt\n",
    "import numpy as np"
   ]
  },
  {
   "cell_type": "code",
   "execution_count": null,
   "id": "e7a988ad",
   "metadata": {
    "scrolled": false
   },
   "outputs": [],
   "source": [
    "#creating a DF out of the entire csv\n",
    "births_df = pd.read_csv(\"2021_Data.csv\")\n",
    "births_df.head()"
   ]
  },
  {
   "cell_type": "markdown",
   "id": "bd76c1b7",
   "metadata": {},
   "source": [
    "# Data Cleaning: "
   ]
  },
  {
   "cell_type": "code",
   "execution_count": null,
   "id": "db20db72",
   "metadata": {
    "scrolled": true
   },
   "outputs": [],
   "source": [
    "#choosing columns i want to examine more\n",
    "clean_births_df = births_df[[\"dob_yy\", \"dob_mm\",\"bfacil\", \"mager\", \"bmi_r\", \"priorlive\", \"priordead\", \"precare\", \"previs\", \"ld_anes\", \"attend\",\"mm_aicu\", \"ab_nicu\", \"pay\", \"dbwt\"]]\n",
    "clean_births_df.head()"
   ]
  },
  {
   "cell_type": "code",
   "execution_count": null,
   "id": "8a13ab81",
   "metadata": {
    "scrolled": true
   },
   "outputs": [],
   "source": [
    "#rename columns \n",
    "clean_births_df = clean_births_df.rename(columns={\"dob_yy\":\"Birth Year\", \"dob_mm\":\"Birth Month\", \n",
    "                                                  \"bfacil\":\"Birth Place\", \"mager\":\"Mother's Age\", \"bmi_r\":\"Mother's BMI\",\n",
    "                                                  \"priorlive\":\"Living Children\", \"priordead\":\"Deceased Children\",\n",
    "                                                 \"precare\": \"Prenatal Care\", \"previs\": \"# of Prenatal Visits\",\n",
    "                                                  \"ld_anes\": \"Used Anesthesia\", \"attend\":\"Attendant at Birth\",\n",
    "                                                  \"mm_aicu\":\"Intensive Care Admission\", \"ab_nicu\": \"NICU Admission\", \n",
    "                                                  \"pay\":\"Payment Source\", \"dbwt\":\"Birth Weight\",\n",
    "                                                 })\n",
    "clean_births_df.head()\n"
   ]
  },
  {
   "cell_type": "code",
   "execution_count": null,
   "id": "072668e8",
   "metadata": {},
   "outputs": [],
   "source": [
    "#Filtering out any data that is unknown (this is represented by the values 9 and/or 99)\n",
    "clean_births_df = clean_births_df[~clean_births_df.apply(lambda row: any(x in [9, 99] for x in row), axis=1)]"
   ]
  },
  {
   "cell_type": "code",
   "execution_count": null,
   "id": "ecbb1e1b",
   "metadata": {},
   "outputs": [],
   "source": [
    "clean_births_df.dtypes"
   ]
  },
  {
   "cell_type": "code",
   "execution_count": null,
   "id": "8f5d9f73",
   "metadata": {},
   "outputs": [],
   "source": [
    "#declaring recoding responses as objects to later replace with coded meaning\n",
    "clean_births_df = clean_births_df.astype({\"Birth Place\":str}, errors='raise')\n",
    "clean_births_df = clean_births_df.astype({\"Mother's BMI\":str}, errors='raise')\n",
    "clean_births_df = clean_births_df.astype({\"Attendant at Birth\": str}, errors='raise')\n",
    "clean_births_df = clean_births_df.astype({\"Payment Source\": str}, errors='raise')"
   ]
  },
  {
   "cell_type": "code",
   "execution_count": null,
   "id": "06eb6caf",
   "metadata": {},
   "outputs": [],
   "source": [
    "#verify datatypes were changed\n",
    "clean_births_df.dtypes"
   ]
  },
  {
   "cell_type": "code",
   "execution_count": null,
   "id": "1f44d7f9",
   "metadata": {},
   "outputs": [],
   "source": [
    "#decoding inputs based on documentation\n",
    "\n",
    "##For column: Birth place\n",
    "clean_births_df[\"Birth Place\"] = clean_births_df[\"Birth Place\"].replace({\"1\":\"Hospital\", \"2\": \"Freestanding Birth Center\",\n",
    "                                                                         \"3\":\"Home (intended)\", \"4\": \"Home (unintended)\",\n",
    "                                                                        \"5\": \"Home (intent unknown)\", \"6\": \"Clinic/Doctor's Office\",\n",
    "                                                                        \"7\":\"Other\",\n",
    "                                                                        })\n",
    "##For column: Mother's BMI\n",
    "clean_births_df[\"Mother's BMI\"] = clean_births_df[\"Mother's BMI\"].replace({\"1\":\"Underweight <18.5\", \"2\":\"Normal 18.5-24.9\",\n",
    "                                                                          \"3\": \"Overweight 25.0-29.9\", \"4\":\"Obesity I 35.0-34.9\",\n",
    "                                                                          \"5\":\"Obesity II 35.0-39.9\", \"6\": \"Extreme Obesity III ≥ 40.0\",\n",
    "                                                                          })\n",
    "##For column: Prenatal Care\n",
    "clean_births_df.loc[(clean_births_df['Prenatal Care'] >= 1) & (clean_births_df['Prenatal Care'] <= 10), 'Prenatal Care'] = 'Y'\n",
    "clean_births_df.loc[(clean_births_df['Prenatal Care'] == 0), 'Prenatal Care'] = 'N'\n",
    "\n",
    "\n",
    "##For column: Attendant at Birth\n",
    "clean_births_df[\"Attendant at Birth\"] = clean_births_df[\"Attendant at Birth\"].replace({\"1\": \"Doctor of Medicine (MD)\", \"2\": \"Doctor of Osteopathy (DO)\",\n",
    "                                                                                      \"3\":\"Certified Nurse Midwife/Certified Midwife (CNM/CM)\", \"4\":\"Other Midwife\",\n",
    "                                                                                      \"5\": \"Other\",\n",
    "                                                                                      })\n",
    "##For column: Payment Source\n",
    "clean_births_df[\"Payment Source\"] = clean_births_df[\"Payment Source\"].replace({\"1\":\"Medicaid\", \"2\":\"Private Insurance\",\n",
    "                                                                              \"3\": \"Self-Pay\", \"4\":\"Indian Health Service\",\n",
    "                                                                              \"5\":\"CHAMPUS/TRICARE\", \"6\":\"Other Government (Federal, State, Local)\",\n",
    "                                                                              \"8\":\"Other\"})\n",
    "\n",
    "#Show updated dataframe\n",
    "clean_births_df.head()\n"
   ]
  },
  {
   "cell_type": "code",
   "execution_count": null,
   "id": "ddc0e76a",
   "metadata": {},
   "outputs": [],
   "source": [
    "#convert baby birth weight from grams to pounds\n",
    "\n",
    "# Conversion factor from grams to pounds\n",
    "grams_to_pounds_conversion_factor = 0.00220462\n",
    "\n",
    "clean_births_df[\"Birth Weight\"] = clean_births_df[\"Birth Weight\"] * grams_to_pounds_conversion_factor\n",
    "\n",
    "#Rename column \n",
    "clean_births_df = clean_births_df.rename(columns={\"Birth Weight\":\"Birth Weight (lbs)\"})\n",
    "\n",
    "#display \n",
    "clean_births_df.head()"
   ]
  },
  {
   "cell_type": "markdown",
   "id": "c3973bf0",
   "metadata": {},
   "source": [
    "# Analysis"
   ]
  },
  {
   "cell_type": "code",
   "execution_count": null,
   "id": "e81a44db",
   "metadata": {},
   "outputs": [],
   "source": [
    "weight_df = clean_births_df[[\"Birth Weight (lbs)\",\"Payment Source\"]]\n",
    "weight_df.head()"
   ]
  },
  {
   "cell_type": "code",
   "execution_count": null,
   "id": "87b2d4cd",
   "metadata": {},
   "outputs": [],
   "source": []
  },
  {
   "cell_type": "code",
   "execution_count": null,
   "id": "228b4110",
   "metadata": {},
   "outputs": [],
   "source": []
  },
  {
   "cell_type": "code",
   "execution_count": null,
   "id": "e97f8994",
   "metadata": {},
   "outputs": [],
   "source": []
  }
 ],
 "metadata": {
  "kernelspec": {
   "display_name": "Python 3 (ipykernel)",
   "language": "python",
   "name": "python3"
  },
  "language_info": {
   "codemirror_mode": {
    "name": "ipython",
    "version": 3
   },
   "file_extension": ".py",
   "mimetype": "text/x-python",
   "name": "python",
   "nbconvert_exporter": "python",
   "pygments_lexer": "ipython3",
   "version": "3.11.5"
  }
 },
 "nbformat": 4,
 "nbformat_minor": 5
}
