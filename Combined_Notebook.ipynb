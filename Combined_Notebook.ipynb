{
 "cells": [
  {
   "cell_type": "code",
   "execution_count": null,
   "id": "f7e46960",
   "metadata": {},
   "outputs": [],
   "source": [
    "# Dependencies\n",
    "import pandas as pd\n",
    "import numpy as np\n",
    "import matplotlib.pyplot as plt\n",
    "import numpy as np\n",
    "from scipy.stats import chi2_contingency\n",
    "import seaborn as sns"
   ]
  },
  {
   "cell_type": "code",
   "execution_count": null,
   "id": "10d2fd5b",
   "metadata": {},
   "outputs": [],
   "source": [
    "#creating a DF out of the entire csv\n",
    "births_df = pd.read_csv(\"2021_Data.csv\")\n",
    "births_df.head()"
   ]
  },
  {
   "cell_type": "markdown",
   "id": "220141f2",
   "metadata": {},
   "source": [
    "# Data Cleaning: (Emily)"
   ]
  },
  {
   "cell_type": "code",
   "execution_count": null,
   "id": "8357912c",
   "metadata": {},
   "outputs": [],
   "source": [
    "#choosing columns i want to examine more\n",
    "clean_births_df = births_df[[\"dob_yy\", \"dob_mm\",\"bfacil\", \"mager\", \"bmi_r\", \"priorlive\", \"priordead\", \"precare\", \"previs\", \"ld_anes\", \"attend\",\"mm_aicu\", \"ab_nicu\", \"pay\", \"dbwt\"]]\n",
    "clean_births_df.head()"
   ]
  },
  {
   "cell_type": "code",
   "execution_count": null,
   "id": "60f829fa",
   "metadata": {},
   "outputs": [],
   "source": [
    "#rename columns \n",
    "clean_births_df = clean_births_df.rename(columns={\"dob_yy\":\"Birth Year\", \"dob_mm\":\"Birth Month\", \n",
    "                                                  \"bfacil\":\"Birth Place\", \"mager\":\"Mother's Age\", \"bmi_r\":\"Mother's BMI\",\n",
    "                                                  \"priorlive\":\"Living Children\", \"priordead\":\"Deceased Children\",\n",
    "                                                 \"precare\": \"Prenatal Care\", \"previs\": \"# of Prenatal Visits\",\n",
    "                                                  \"ld_anes\": \"Used Anesthesia\", \"attend\":\"Attendant at Birth\",\n",
    "                                                  \"mm_aicu\":\"Intensive Care Admission\", \"ab_nicu\": \"NICU Admission\", \n",
    "                                                  \"pay\":\"Payment Source\", \"dbwt\":\"Birth Weight\",\n",
    "                                                 })\n",
    "clean_births_df.head()"
   ]
  },
  {
   "cell_type": "code",
   "execution_count": null,
   "id": "9ea70d81",
   "metadata": {},
   "outputs": [],
   "source": [
    "#Filtering out any data that is unknown (this is represented by the values 9 and/or 99)\n",
    "clean_births_df = clean_births_df[~clean_births_df.apply(lambda row: any(x in [9, 99] for x in row), axis=1)]"
   ]
  },
  {
   "cell_type": "code",
   "execution_count": null,
   "id": "33e8e822",
   "metadata": {},
   "outputs": [],
   "source": [
    "clean_births_df.dtypes"
   ]
  },
  {
   "cell_type": "code",
   "execution_count": null,
   "id": "9eed2c5d",
   "metadata": {},
   "outputs": [],
   "source": [
    "#declaring recoding responses as objects to later replace with coded meaning\n",
    "clean_births_df = clean_births_df.astype({\"Birth Place\":str}, errors='raise')\n",
    "clean_births_df = clean_births_df.astype({\"Mother's BMI\":str}, errors='raise')\n",
    "clean_births_df = clean_births_df.astype({\"Attendant at Birth\": str}, errors='raise')\n",
    "clean_births_df = clean_births_df.astype({\"Payment Source\": str}, errors='raise')"
   ]
  },
  {
   "cell_type": "code",
   "execution_count": null,
   "id": "fb2009e0",
   "metadata": {},
   "outputs": [],
   "source": [
    "#verify datatypes were changed\n",
    "clean_births_df.dtypes"
   ]
  },
  {
   "cell_type": "code",
   "execution_count": null,
   "id": "1d8ad3fe",
   "metadata": {},
   "outputs": [],
   "source": [
    "#decoding inputs based on documentation\n",
    "#OK if returns a warning. \n",
    "#If returns an error- restart and run all\n",
    "\n",
    "##For column: Birth place\n",
    "clean_births_df[\"Birth Place\"] = clean_births_df[\"Birth Place\"].replace({\"1\":\"Hospital\", \"2\": \"Freestanding Birth Center\",\n",
    "                                                                         \"3\":\"Home (intended)\", \"4\": \"Home (unintended)\",\n",
    "                                                                        \"5\": \"Home (intent unknown)\", \"6\": \"Clinic/Doctor's Office\",\n",
    "                                                                        \"7\":\"Other\",\n",
    "                                                                        })\n",
    "##For column: Mother's BMI\n",
    "clean_births_df[\"Mother's BMI\"] = clean_births_df[\"Mother's BMI\"].replace({\"1\":\"Underweight <18.5\", \"2\":\"Normal 18.5-24.9\",\n",
    "                                                                          \"3\": \"Overweight 25.0-29.9\", \"4\":\"Obesity I 35.0-34.9\",\n",
    "                                                                          \"5\":\"Obesity II 35.0-39.9\", \"6\": \"Extreme Obesity III ≥ 40.0\",\n",
    "                                                                          })\n",
    "##For column: Prenatal Care\n",
    "clean_births_df.loc[(clean_births_df['Prenatal Care'] >= 1) & (clean_births_df['Prenatal Care'] <= 10), 'Prenatal Care'] = 'Y'\n",
    "clean_births_df.loc[(clean_births_df['Prenatal Care'] == 0), 'Prenatal Care'] = 'N'\n",
    "\n",
    "\n",
    "##For column: Attendant at Birth\n",
    "clean_births_df[\"Attendant at Birth\"] = clean_births_df[\"Attendant at Birth\"].replace({\"1\": \"Doctor of Medicine (MD)\", \"2\": \"Doctor of Osteopathy (DO)\",\n",
    "                                                                                      \"3\":\"Certified Nurse Midwife/Certified Midwife (CNM/CM)\", \"4\":\"Other Midwife\",\n",
    "                                                                                      \"5\": \"Other\",\n",
    "                                                                                      })\n",
    "##For column: Payment Source\n",
    "clean_births_df[\"Payment Source\"] = clean_births_df[\"Payment Source\"].replace({\"1\":\"Medicaid\", \"2\":\"Private Insurance\",\n",
    "                                                                              \"3\": \"Self-Pay\", \"4\":\"Indian Health Service\",\n",
    "                                                                              \"5\":\"CHAMPUS/TRICARE\", \"6\":\"Other Government (Federal, State, Local)\",\n",
    "                                                                              \"8\":\"Other\"})\n",
    "\n",
    "#Show updated dataframe\n",
    "clean_births_df.head()"
   ]
  },
  {
   "cell_type": "code",
   "execution_count": null,
   "id": "66d71495",
   "metadata": {},
   "outputs": [],
   "source": [
    "#convert baby birth weight from grams to pounds\n",
    "\n",
    "# Conversion factor from grams to pounds\n",
    "grams_to_pounds_conversion_factor = 0.00220462\n",
    "\n",
    "clean_births_df[\"Birth Weight\"] = clean_births_df[\"Birth Weight\"] * grams_to_pounds_conversion_factor\n",
    "\n",
    "#Rename column \n",
    "clean_births_df = clean_births_df.rename(columns={\"Birth Weight\":\"Birth Weight (lbs)\"})\n",
    "\n",
    "#display \n",
    "clean_births_df.head()"
   ]
  },
  {
   "cell_type": "markdown",
   "id": "6e0fc98a",
   "metadata": {},
   "source": [
    "### Baby Birth Weight Analysis: (Emily)"
   ]
  },
  {
   "cell_type": "code",
   "execution_count": null,
   "id": "97714913",
   "metadata": {},
   "outputs": [],
   "source": [
    "#create simplified dataframe\n",
    "\n",
    "weight_df = clean_births_df[[\"Birth Weight (lbs)\",\"Payment Source\"]]\n",
    "weight_df.head()"
   ]
  },
  {
   "cell_type": "code",
   "execution_count": null,
   "id": "d30d5bf7",
   "metadata": {},
   "outputs": [],
   "source": [
    "#name variables i want to compare\n",
    "weight = weight_df[\"Birth Weight (lbs)\"]\n",
    "payment = weight_df[\"Payment Source\"]"
   ]
  },
  {
   "cell_type": "code",
   "execution_count": null,
   "id": "5ee59053",
   "metadata": {},
   "outputs": [],
   "source": [
    "#test out what scatter plot looks like\n",
    "plt.scatter(weight, payment)"
   ]
  },
  {
   "cell_type": "code",
   "execution_count": null,
   "id": "41907721",
   "metadata": {},
   "outputs": [],
   "source": []
  }
 ],
 "metadata": {
  "kernelspec": {
   "display_name": "Python 3 (ipykernel)",
   "language": "python",
   "name": "python3"
  },
  "language_info": {
   "codemirror_mode": {
    "name": "ipython",
    "version": 3
   },
   "file_extension": ".py",
   "mimetype": "text/x-python",
   "name": "python",
   "nbconvert_exporter": "python",
   "pygments_lexer": "ipython3",
   "version": "3.11.5"
  }
 },
 "nbformat": 4,
 "nbformat_minor": 5
}
